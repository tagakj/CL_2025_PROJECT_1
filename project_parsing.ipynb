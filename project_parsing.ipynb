{
  "nbformat": 4,
  "nbformat_minor": 0,
  "metadata": {
    "colab": {
      "provenance": [],
      "include_colab_link": true
    },
    "kernelspec": {
      "name": "python3",
      "display_name": "Python 3"
    },
    "language_info": {
      "name": "python"
    }
  },
  "cells": [
    {
      "cell_type": "markdown",
      "metadata": {
        "id": "view-in-github",
        "colab_type": "text"
      },
      "source": [
        "<a href=\"https://colab.research.google.com/github/tagakj/CL_2025_PROJECT_1/blob/main/project_parsing.ipynb\" target=\"_parent\"><img src=\"https://colab.research.google.com/assets/colab-badge.svg\" alt=\"Open In Colab\"/></a>"
      ]
    },
    {
      "cell_type": "code",
      "execution_count": null,
      "metadata": {
        "id": "9s71OPz_1ccC"
      },
      "outputs": [],
      "source": [
        "import requests\n",
        "from bs4 import BeautifulSoup\n",
        "import time\n",
        "import re\n",
        "import pandas as pd"
      ]
    },
    {
      "cell_type": "code",
      "source": [
        "# генерим ссылки на страницы с новостями (100 публикаций на страницу)\n",
        "urls = ['https://www.prnewswire.com/news-releases/financial-services-latest-news/earnings-list/?page=1&pagesize=100']\n",
        "for i in range(2, 59):\n",
        "  urls.append(\"https://www.prnewswire.com/news-releases/financial-services-latest-news/earnings-list/\" + \"?page=\" + str(i) + \"&pagesize=100\")"
      ],
      "metadata": {
        "id": "8OW62k2M13F2"
      },
      "execution_count": null,
      "outputs": []
    },
    {
      "cell_type": "code",
      "source": [
        "# ходим по страницам, с каждой  собираем ссылки на пресс-релизы\n",
        "links = []\n",
        "for u in urls:\n",
        "  page = requests.get(u)\n",
        "  time.sleep(3)\n",
        "  soup = BeautifulSoup(page.text)\n",
        "  for i in soup.find_all('div', {'class': 'row newsCards', 'lang': 'en-US'}):\n",
        "    link = i.find('a', {'class': 'newsreleaseconsolidatelink display-outline w-100'})\n",
        "    links.append(\"https://www.prnewswire.com\"+link.get('href'))"
      ],
      "metadata": {
        "id": "6MNVRie0_0wo"
      },
      "execution_count": null,
      "outputs": []
    },
    {
      "cell_type": "code",
      "source": [
        "# ходим по ссылкам на пресс-релизы собираем тэги с текстами\n",
        "mix = []\n",
        "for link in links[:2800]:\n",
        "    page = requests.get(link)\n",
        "    time.sleep(3)\n",
        "    soup = BeautifulSoup(page.text)\n",
        "    description = soup.find_all('ul', {'type': 'disc'})\n",
        "    text = soup.find_all('p', {'class': None})\n",
        "    mix.append([link, description, text])"
      ],
      "metadata": {
        "id": "-s-Gb4EJ__u-"
      },
      "execution_count": null,
      "outputs": []
    },
    {
      "cell_type": "code",
      "source": [
        "# записываем данные парсинга в файл\n",
        "mix2800_df = pd.DataFrame(mix).rename(columns={0: \"link\", 1: \"description\", 2: \"text\"})\n",
        "mix2800_df.to_excel(\"mix2800_df.xlsx\")"
      ],
      "metadata": {
        "id": "p-kiINfZCCjY"
      },
      "execution_count": null,
      "outputs": []
    },
    {
      "cell_type": "markdown",
      "source": [
        "НАЧИНАЕТСЯ ДРУГАЯ ТЕТРАДКА - project_analysis_final"
      ],
      "metadata": {
        "id": "b5lDiFxpDN5s"
      }
    },
    {
      "cell_type": "code",
      "source": [
        "# считываем данные парсинга из файла\n",
        "mix2800_df = pd.read_excel(\"mix2800_df.xlsx\")"
      ],
      "metadata": {
        "id": "zauQ9b7JB54Z"
      },
      "execution_count": null,
      "outputs": []
    }
  ]
}